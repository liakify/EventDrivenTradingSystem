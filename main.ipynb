{
 "cells": [
  {
   "cell_type": "markdown",
   "metadata": {},
   "source": [
    "## Imports and setting up db connection"
   ]
  },
  {
   "cell_type": "code",
   "execution_count": 1,
   "metadata": {},
   "outputs": [],
   "source": [
    "import yfinance as yf\n",
    "import pandas as pd\n",
    "import sqlite3\n",
    "\n",
    "from data import Data\n",
    "\n",
    "data = Data()\n",
    "\n",
    "con = data.con\n",
    "\n",
    "symbols = [\"SPY\", \"IEF\", \"TLT\", \"GLD\", \"VNQ\"]"
   ]
  },
  {
   "cell_type": "markdown",
   "metadata": {},
   "source": [
    "## Update db data"
   ]
  },
  {
   "cell_type": "code",
   "execution_count": 2,
   "metadata": {},
   "outputs": [
    {
     "output_type": "stream",
     "name": "stdout",
     "text": "[*********************100%***********************]  1 of 1 completed\nSPY is already up to date (latest date: 2020-06-12)\n[*********************100%***********************]  1 of 1 completed\nIEF is already up to date (latest date: 2020-06-12)\n[*********************100%***********************]  1 of 1 completed\nTLT is already up to date (latest date: 2020-06-12)\n[*********************100%***********************]  1 of 1 completed\nGLD is already up to date (latest date: 2020-06-12)\n[*********************100%***********************]  1 of 1 completed\nVNQ is already up to date (latest date: 2020-06-12)\n"
    }
   ],
   "source": [
    "data.updateEodData()"
   ]
  },
  {
   "cell_type": "markdown",
   "metadata": {},
   "source": [
    "## Reading data from the db"
   ]
  },
  {
   "cell_type": "code",
   "execution_count": 3,
   "metadata": {},
   "outputs": [
    {
     "output_type": "execute_result",
     "data": {
      "text/plain": "              open    high     low   close  adj_close    volume\ndate                                                           \n2019-04-03  123.61  123.87  123.37  123.52   120.6112  10407000\n2019-04-04  123.60  123.89  123.44  123.87   120.9530   7503400\n2019-04-05  123.62  124.17  123.58  124.03   121.1092   6321800\n2019-04-08  123.83  123.95  123.52  123.59   120.6796   4446400\n2019-04-09  124.22  124.34  123.77  123.98   121.0604   7020300\n...            ...     ...     ...     ...        ...       ...\n2019-12-24  135.92  137.06  135.89  136.84   135.8637   4667400\n2019-12-26  136.91  137.22  136.51  137.17   136.1913   5290200\n2019-12-27  137.44  137.63  137.29  137.32   136.3403   7300500\n2019-12-30  135.89  136.90  135.66  136.82   135.8439   7979700\n2019-12-31  136.21  136.46  135.38  135.48   134.5134  10707400\n\n[189 rows x 6 columns]",
      "text/html": "<div>\n<style scoped>\n    .dataframe tbody tr th:only-of-type {\n        vertical-align: middle;\n    }\n\n    .dataframe tbody tr th {\n        vertical-align: top;\n    }\n\n    .dataframe thead th {\n        text-align: right;\n    }\n</style>\n<table border=\"1\" class=\"dataframe\">\n  <thead>\n    <tr style=\"text-align: right;\">\n      <th></th>\n      <th>open</th>\n      <th>high</th>\n      <th>low</th>\n      <th>close</th>\n      <th>adj_close</th>\n      <th>volume</th>\n    </tr>\n    <tr>\n      <th>date</th>\n      <th></th>\n      <th></th>\n      <th></th>\n      <th></th>\n      <th></th>\n      <th></th>\n    </tr>\n  </thead>\n  <tbody>\n    <tr>\n      <th>2019-04-03</th>\n      <td>123.61</td>\n      <td>123.87</td>\n      <td>123.37</td>\n      <td>123.52</td>\n      <td>120.6112</td>\n      <td>10407000</td>\n    </tr>\n    <tr>\n      <th>2019-04-04</th>\n      <td>123.60</td>\n      <td>123.89</td>\n      <td>123.44</td>\n      <td>123.87</td>\n      <td>120.9530</td>\n      <td>7503400</td>\n    </tr>\n    <tr>\n      <th>2019-04-05</th>\n      <td>123.62</td>\n      <td>124.17</td>\n      <td>123.58</td>\n      <td>124.03</td>\n      <td>121.1092</td>\n      <td>6321800</td>\n    </tr>\n    <tr>\n      <th>2019-04-08</th>\n      <td>123.83</td>\n      <td>123.95</td>\n      <td>123.52</td>\n      <td>123.59</td>\n      <td>120.6796</td>\n      <td>4446400</td>\n    </tr>\n    <tr>\n      <th>2019-04-09</th>\n      <td>124.22</td>\n      <td>124.34</td>\n      <td>123.77</td>\n      <td>123.98</td>\n      <td>121.0604</td>\n      <td>7020300</td>\n    </tr>\n    <tr>\n      <th>...</th>\n      <td>...</td>\n      <td>...</td>\n      <td>...</td>\n      <td>...</td>\n      <td>...</td>\n      <td>...</td>\n    </tr>\n    <tr>\n      <th>2019-12-24</th>\n      <td>135.92</td>\n      <td>137.06</td>\n      <td>135.89</td>\n      <td>136.84</td>\n      <td>135.8637</td>\n      <td>4667400</td>\n    </tr>\n    <tr>\n      <th>2019-12-26</th>\n      <td>136.91</td>\n      <td>137.22</td>\n      <td>136.51</td>\n      <td>137.17</td>\n      <td>136.1913</td>\n      <td>5290200</td>\n    </tr>\n    <tr>\n      <th>2019-12-27</th>\n      <td>137.44</td>\n      <td>137.63</td>\n      <td>137.29</td>\n      <td>137.32</td>\n      <td>136.3403</td>\n      <td>7300500</td>\n    </tr>\n    <tr>\n      <th>2019-12-30</th>\n      <td>135.89</td>\n      <td>136.90</td>\n      <td>135.66</td>\n      <td>136.82</td>\n      <td>135.8439</td>\n      <td>7979700</td>\n    </tr>\n    <tr>\n      <th>2019-12-31</th>\n      <td>136.21</td>\n      <td>136.46</td>\n      <td>135.38</td>\n      <td>135.48</td>\n      <td>134.5134</td>\n      <td>10707400</td>\n    </tr>\n  </tbody>\n</table>\n<p>189 rows × 6 columns</p>\n</div>"
     },
     "metadata": {},
     "execution_count": 3
    }
   ],
   "source": [
    "data.getEodData(\"TLT\", start=\"2019-04-03\", end=\"2020-01-01\")"
   ]
  }
 ],
 "metadata": {
  "language_info": {
   "codemirror_mode": {
    "name": "ipython",
    "version": 3
   },
   "file_extension": ".py",
   "mimetype": "text/x-python",
   "name": "python",
   "nbconvert_exporter": "python",
   "pygments_lexer": "ipython3",
   "version": "3.8.2-final"
  },
  "orig_nbformat": 2,
  "kernelspec": {
   "name": "python38264bitenvvenvbe8be8c3152048828b50ae345b2ffc8e",
   "display_name": "Python 3.8.2 64-bit ('env': venv)"
  }
 },
 "nbformat": 4,
 "nbformat_minor": 2
}