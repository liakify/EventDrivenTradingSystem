{
 "cells": [
  {
   "cell_type": "markdown",
   "metadata": {},
   "source": [
    "## Imports and setting up db connection"
   ]
  },
  {
   "cell_type": "code",
   "execution_count": 2,
   "metadata": {},
   "outputs": [],
   "source": [
    "import yfinance as yf\n",
    "import pandas as pd\n",
    "import sqlite3\n",
    "\n",
    "from data import Data\n",
    "\n",
    "data = Data()\n",
    "\n",
    "symbols = [\"SPY\", \"IEF\", \"TLT\", \"GLD\", \"VNQ\"]"
   ]
  },
  {
   "cell_type": "markdown",
   "metadata": {},
   "source": [
    "## Update db data"
   ]
  },
  {
   "cell_type": "code",
   "execution_count": 2,
   "metadata": {},
   "outputs": [
    {
     "output_type": "stream",
     "name": "stdout",
     "text": "[*********************100%***********************]  1 of 1 completed\nSPY is already up to date (latest date: 2020-06-12)\n[*********************100%***********************]  1 of 1 completed\nIEF is already up to date (latest date: 2020-06-12)\n[*********************100%***********************]  1 of 1 completed\nTLT is already up to date (latest date: 2020-06-12)\n[*********************100%***********************]  1 of 1 completed\nGLD is already up to date (latest date: 2020-06-12)\n[*********************100%***********************]  1 of 1 completed\nVNQ is already up to date (latest date: 2020-06-12)\n"
    }
   ],
   "source": [
    "data.updateEodData()"
   ]
  },
  {
   "cell_type": "markdown",
   "metadata": {},
   "source": [
    "## Reading data from the db"
   ]
  },
  {
   "cell_type": "code",
   "execution_count": 3,
   "metadata": {},
   "outputs": [
    {
     "output_type": "execute_result",
     "data": {
      "text/plain": "              open    high     low   close  adj_close    volume\ndate                                                           \n2019-04-03  123.61  123.87  123.37  123.52   120.6112  10407000\n2019-04-04  123.60  123.89  123.44  123.87   120.9530   7503400\n2019-04-05  123.62  124.17  123.58  124.03   121.1092   6321800\n2019-04-08  123.83  123.95  123.52  123.59   120.6796   4446400\n2019-04-09  124.22  124.34  123.77  123.98   121.0604   7020300\n...            ...     ...     ...     ...        ...       ...\n2019-12-24  135.92  137.06  135.89  136.84   135.8637   4667400\n2019-12-26  136.91  137.22  136.51  137.17   136.1913   5290200\n2019-12-27  137.44  137.63  137.29  137.32   136.3403   7300500\n2019-12-30  135.89  136.90  135.66  136.82   135.8439   7979700\n2019-12-31  136.21  136.46  135.38  135.48   134.5134  10707400\n\n[189 rows x 6 columns]",
      "text/html": "<div>\n<style scoped>\n    .dataframe tbody tr th:only-of-type {\n        vertical-align: middle;\n    }\n\n    .dataframe tbody tr th {\n        vertical-align: top;\n    }\n\n    .dataframe thead th {\n        text-align: right;\n    }\n</style>\n<table border=\"1\" class=\"dataframe\">\n  <thead>\n    <tr style=\"text-align: right;\">\n      <th></th>\n      <th>open</th>\n      <th>high</th>\n      <th>low</th>\n      <th>close</th>\n      <th>adj_close</th>\n      <th>volume</th>\n    </tr>\n    <tr>\n      <th>date</th>\n      <th></th>\n      <th></th>\n      <th></th>\n      <th></th>\n      <th></th>\n      <th></th>\n    </tr>\n  </thead>\n  <tbody>\n    <tr>\n      <th>2019-04-03</th>\n      <td>123.61</td>\n      <td>123.87</td>\n      <td>123.37</td>\n      <td>123.52</td>\n      <td>120.6112</td>\n      <td>10407000</td>\n    </tr>\n    <tr>\n      <th>2019-04-04</th>\n      <td>123.60</td>\n      <td>123.89</td>\n      <td>123.44</td>\n      <td>123.87</td>\n      <td>120.9530</td>\n      <td>7503400</td>\n    </tr>\n    <tr>\n      <th>2019-04-05</th>\n      <td>123.62</td>\n      <td>124.17</td>\n      <td>123.58</td>\n      <td>124.03</td>\n      <td>121.1092</td>\n      <td>6321800</td>\n    </tr>\n    <tr>\n      <th>2019-04-08</th>\n      <td>123.83</td>\n      <td>123.95</td>\n      <td>123.52</td>\n      <td>123.59</td>\n      <td>120.6796</td>\n      <td>4446400</td>\n    </tr>\n    <tr>\n      <th>2019-04-09</th>\n      <td>124.22</td>\n      <td>124.34</td>\n      <td>123.77</td>\n      <td>123.98</td>\n      <td>121.0604</td>\n      <td>7020300</td>\n    </tr>\n    <tr>\n      <th>...</th>\n      <td>...</td>\n      <td>...</td>\n      <td>...</td>\n      <td>...</td>\n      <td>...</td>\n      <td>...</td>\n    </tr>\n    <tr>\n      <th>2019-12-24</th>\n      <td>135.92</td>\n      <td>137.06</td>\n      <td>135.89</td>\n      <td>136.84</td>\n      <td>135.8637</td>\n      <td>4667400</td>\n    </tr>\n    <tr>\n      <th>2019-12-26</th>\n      <td>136.91</td>\n      <td>137.22</td>\n      <td>136.51</td>\n      <td>137.17</td>\n      <td>136.1913</td>\n      <td>5290200</td>\n    </tr>\n    <tr>\n      <th>2019-12-27</th>\n      <td>137.44</td>\n      <td>137.63</td>\n      <td>137.29</td>\n      <td>137.32</td>\n      <td>136.3403</td>\n      <td>7300500</td>\n    </tr>\n    <tr>\n      <th>2019-12-30</th>\n      <td>135.89</td>\n      <td>136.90</td>\n      <td>135.66</td>\n      <td>136.82</td>\n      <td>135.8439</td>\n      <td>7979700</td>\n    </tr>\n    <tr>\n      <th>2019-12-31</th>\n      <td>136.21</td>\n      <td>136.46</td>\n      <td>135.38</td>\n      <td>135.48</td>\n      <td>134.5134</td>\n      <td>10707400</td>\n    </tr>\n  </tbody>\n</table>\n<p>189 rows × 6 columns</p>\n</div>"
     },
     "metadata": {},
     "execution_count": 3
    }
   ],
   "source": [
    "data.getEodData(\"TLT\", start=\"2019-04-03\", end=\"2020-01-01\")"
   ]
  },
  {
   "cell_type": "markdown",
   "metadata": {},
   "source": [
    "## Web scraping"
   ]
  },
  {
   "cell_type": "code",
   "execution_count": 28,
   "metadata": {
    "tags": [
     "outputPrepend"
    ]
   },
   "outputs": [
    {
     "output_type": "execute_result",
     "data": {
      "text/plain": "                     Company Exchange    Symbol                      Industry  \\\n0                         3M     NYSE  NYSE:MMM                  Conglomerate   \n1           American Express     NYSE  NYSE:AXP            Financial services   \n2                 Apple Inc.   NASDAQ      AAPL        Information technology   \n3                     Boeing     NYSE   NYSE:BA           Aerospaceanddefense   \n4           Caterpillar Inc.     NYSE  NYSE:CAT         ConstructionandMining   \n5        Chevron Corporation     NYSE  NYSE:CVX            Petroleum industry   \n6              Cisco Systems   NASDAQ      CSCO        Information technology   \n7      The Coca-Cola Company     NYSE   NYSE:KO                 Food industry   \n8                   Dow Inc.     NYSE  NYSE:DOW             Chemical industry   \n9                 ExxonMobil     NYSE  NYSE:XOM            Petroleum industry   \n10             Goldman Sachs     NYSE   NYSE:GS            Financial services   \n11            The Home Depot     NYSE   NYSE:HD                     Retailing   \n12                       IBM     NYSE  NYSE:IBM        Information technology   \n13                     Intel   NASDAQ      INTC        Information technology   \n14         Johnson & Johnson     NYSE  NYSE:JNJ       Pharmaceutical industry   \n15            JPMorgan Chase     NYSE  NYSE:JPM            Financial services   \n16                McDonald's     NYSE  NYSE:MCD                 Food industry   \n17               Merck & Co.     NYSE  NYSE:MRK       Pharmaceutical industry   \n18                 Microsoft   NASDAQ      MSFT        Information technology   \n19                      Nike     NYSE  NYSE:NKE                       Apparel   \n20                    Pfizer     NYSE  NYSE:PFE       Pharmaceutical industry   \n21          Procter & Gamble     NYSE   NYSE:PG    Fast-moving consumer goods   \n22     Raytheon Technologies     NYSE  NYSE:RTX           Aerospaceanddefense   \n23   The Travelers Companies     NYSE  NYSE:TRV            Financial services   \n24        UnitedHealth Group     NYSE  NYSE:UNH           Managed health care   \n25                   Verizon     NYSE   NYSE:VZ             Telecommunication   \n26                 Visa Inc.     NYSE    NYSE:V            Financial services   \n27                   Walmart     NYSE  NYSE:WMT                     Retailing   \n28  Walgreens Boots Alliance   NASDAQ       WBA                     Retailing   \n29   The Walt Disney Company     NYSE  NYSE:DIS  Broadcastingandentertainment   \n\n    Date Added                                              Notes  \\\n0   1976-08-09              as Minnesota Mining and Manufacturing   \n1   1982-08-30                                                      \n2   2015-03-19                                                      \n3   1987-03-12                                                      \n4   1991-05-06                                                      \n5   2008-02-19                      also 1930-07-18 to 1999-11-01   \n6   2009-06-08                                                      \n7   1987-03-12                      also 1932-05-26 to 1935-11-20   \n8   2019-04-02                                                      \n9   1928-10-01                       asStandard Oil of New Jersey   \n10  2013-09-20                                                      \n11  1999-11-01                                                      \n12  1979-06-29                      also 1932-05-26 to 1939-03-04   \n13  1999-11-01                                                      \n14  1997-03-17                                                      \n15  1991-05-06                                                      \n16  1985-10-30                                                      \n17  1979-06-29                                                      \n18  1999-11-01                                                      \n19  2013-09-20                                                      \n20  2004-04-08                                                      \n21  1932-05-26                                                      \n22  1939-03-14  as United Aircraft, later transformed intoUnit...   \n23  2009-06-08                                                      \n24  2012-09-24                                                      \n25  2004-04-08                                                      \n26  2013-09-20                                                      \n27  1997-03-17                                                      \n28  2018-06-26                                                      \n29  1991-05-06                                                      \n\n   Index Weighting (Apr 30, 2020)  \n0                           4.35%  \n1                           2.68%  \n2                           8.01%  \n3                           3.87%  \n4                           3.34%  \n5                           2.63%  \n6                           1.21%  \n7                           1.31%  \n8                           1.04%  \n9                           1.32%  \n10                          5.29%  \n11                          6.17%  \n12                          3.58%  \n13                          1.72%  \n14                          4.18%  \n15                          2.72%  \n16                          5.23%  \n17                          2.25%  \n18                          4.94%  \n19                          2.45%  \n20                          1.06%  \n21                          3.26%  \n22                          1.89%  \n23                          2.95%  \n24                          8.01%  \n25                          1.62%  \n26                          5.06%  \n27                          3.44%  \n28                          1.26%  \n29                          3.12%  ",
      "text/html": "<div>\n<style scoped>\n    .dataframe tbody tr th:only-of-type {\n        vertical-align: middle;\n    }\n\n    .dataframe tbody tr th {\n        vertical-align: top;\n    }\n\n    .dataframe thead th {\n        text-align: right;\n    }\n</style>\n<table border=\"1\" class=\"dataframe\">\n  <thead>\n    <tr style=\"text-align: right;\">\n      <th></th>\n      <th>Company</th>\n      <th>Exchange</th>\n      <th>Symbol</th>\n      <th>Industry</th>\n      <th>Date Added</th>\n      <th>Notes</th>\n      <th>Index Weighting (Apr 30, 2020)</th>\n    </tr>\n  </thead>\n  <tbody>\n    <tr>\n      <th>0</th>\n      <td>3M</td>\n      <td>NYSE</td>\n      <td>NYSE:MMM</td>\n      <td>Conglomerate</td>\n      <td>1976-08-09</td>\n      <td>as Minnesota Mining and Manufacturing</td>\n      <td>4.35%</td>\n    </tr>\n    <tr>\n      <th>1</th>\n      <td>American Express</td>\n      <td>NYSE</td>\n      <td>NYSE:AXP</td>\n      <td>Financial services</td>\n      <td>1982-08-30</td>\n      <td></td>\n      <td>2.68%</td>\n    </tr>\n    <tr>\n      <th>2</th>\n      <td>Apple Inc.</td>\n      <td>NASDAQ</td>\n      <td>AAPL</td>\n      <td>Information technology</td>\n      <td>2015-03-19</td>\n      <td></td>\n      <td>8.01%</td>\n    </tr>\n    <tr>\n      <th>3</th>\n      <td>Boeing</td>\n      <td>NYSE</td>\n      <td>NYSE:BA</td>\n      <td>Aerospaceanddefense</td>\n      <td>1987-03-12</td>\n      <td></td>\n      <td>3.87%</td>\n    </tr>\n    <tr>\n      <th>4</th>\n      <td>Caterpillar Inc.</td>\n      <td>NYSE</td>\n      <td>NYSE:CAT</td>\n      <td>ConstructionandMining</td>\n      <td>1991-05-06</td>\n      <td></td>\n      <td>3.34%</td>\n    </tr>\n    <tr>\n      <th>5</th>\n      <td>Chevron Corporation</td>\n      <td>NYSE</td>\n      <td>NYSE:CVX</td>\n      <td>Petroleum industry</td>\n      <td>2008-02-19</td>\n      <td>also 1930-07-18 to 1999-11-01</td>\n      <td>2.63%</td>\n    </tr>\n    <tr>\n      <th>6</th>\n      <td>Cisco Systems</td>\n      <td>NASDAQ</td>\n      <td>CSCO</td>\n      <td>Information technology</td>\n      <td>2009-06-08</td>\n      <td></td>\n      <td>1.21%</td>\n    </tr>\n    <tr>\n      <th>7</th>\n      <td>The Coca-Cola Company</td>\n      <td>NYSE</td>\n      <td>NYSE:KO</td>\n      <td>Food industry</td>\n      <td>1987-03-12</td>\n      <td>also 1932-05-26 to 1935-11-20</td>\n      <td>1.31%</td>\n    </tr>\n    <tr>\n      <th>8</th>\n      <td>Dow Inc.</td>\n      <td>NYSE</td>\n      <td>NYSE:DOW</td>\n      <td>Chemical industry</td>\n      <td>2019-04-02</td>\n      <td></td>\n      <td>1.04%</td>\n    </tr>\n    <tr>\n      <th>9</th>\n      <td>ExxonMobil</td>\n      <td>NYSE</td>\n      <td>NYSE:XOM</td>\n      <td>Petroleum industry</td>\n      <td>1928-10-01</td>\n      <td>asStandard Oil of New Jersey</td>\n      <td>1.32%</td>\n    </tr>\n    <tr>\n      <th>10</th>\n      <td>Goldman Sachs</td>\n      <td>NYSE</td>\n      <td>NYSE:GS</td>\n      <td>Financial services</td>\n      <td>2013-09-20</td>\n      <td></td>\n      <td>5.29%</td>\n    </tr>\n    <tr>\n      <th>11</th>\n      <td>The Home Depot</td>\n      <td>NYSE</td>\n      <td>NYSE:HD</td>\n      <td>Retailing</td>\n      <td>1999-11-01</td>\n      <td></td>\n      <td>6.17%</td>\n    </tr>\n    <tr>\n      <th>12</th>\n      <td>IBM</td>\n      <td>NYSE</td>\n      <td>NYSE:IBM</td>\n      <td>Information technology</td>\n      <td>1979-06-29</td>\n      <td>also 1932-05-26 to 1939-03-04</td>\n      <td>3.58%</td>\n    </tr>\n    <tr>\n      <th>13</th>\n      <td>Intel</td>\n      <td>NASDAQ</td>\n      <td>INTC</td>\n      <td>Information technology</td>\n      <td>1999-11-01</td>\n      <td></td>\n      <td>1.72%</td>\n    </tr>\n    <tr>\n      <th>14</th>\n      <td>Johnson &amp; Johnson</td>\n      <td>NYSE</td>\n      <td>NYSE:JNJ</td>\n      <td>Pharmaceutical industry</td>\n      <td>1997-03-17</td>\n      <td></td>\n      <td>4.18%</td>\n    </tr>\n    <tr>\n      <th>15</th>\n      <td>JPMorgan Chase</td>\n      <td>NYSE</td>\n      <td>NYSE:JPM</td>\n      <td>Financial services</td>\n      <td>1991-05-06</td>\n      <td></td>\n      <td>2.72%</td>\n    </tr>\n    <tr>\n      <th>16</th>\n      <td>McDonald's</td>\n      <td>NYSE</td>\n      <td>NYSE:MCD</td>\n      <td>Food industry</td>\n      <td>1985-10-30</td>\n      <td></td>\n      <td>5.23%</td>\n    </tr>\n    <tr>\n      <th>17</th>\n      <td>Merck &amp; Co.</td>\n      <td>NYSE</td>\n      <td>NYSE:MRK</td>\n      <td>Pharmaceutical industry</td>\n      <td>1979-06-29</td>\n      <td></td>\n      <td>2.25%</td>\n    </tr>\n    <tr>\n      <th>18</th>\n      <td>Microsoft</td>\n      <td>NASDAQ</td>\n      <td>MSFT</td>\n      <td>Information technology</td>\n      <td>1999-11-01</td>\n      <td></td>\n      <td>4.94%</td>\n    </tr>\n    <tr>\n      <th>19</th>\n      <td>Nike</td>\n      <td>NYSE</td>\n      <td>NYSE:NKE</td>\n      <td>Apparel</td>\n      <td>2013-09-20</td>\n      <td></td>\n      <td>2.45%</td>\n    </tr>\n    <tr>\n      <th>20</th>\n      <td>Pfizer</td>\n      <td>NYSE</td>\n      <td>NYSE:PFE</td>\n      <td>Pharmaceutical industry</td>\n      <td>2004-04-08</td>\n      <td></td>\n      <td>1.06%</td>\n    </tr>\n    <tr>\n      <th>21</th>\n      <td>Procter &amp; Gamble</td>\n      <td>NYSE</td>\n      <td>NYSE:PG</td>\n      <td>Fast-moving consumer goods</td>\n      <td>1932-05-26</td>\n      <td></td>\n      <td>3.26%</td>\n    </tr>\n    <tr>\n      <th>22</th>\n      <td>Raytheon Technologies</td>\n      <td>NYSE</td>\n      <td>NYSE:RTX</td>\n      <td>Aerospaceanddefense</td>\n      <td>1939-03-14</td>\n      <td>as United Aircraft, later transformed intoUnit...</td>\n      <td>1.89%</td>\n    </tr>\n    <tr>\n      <th>23</th>\n      <td>The Travelers Companies</td>\n      <td>NYSE</td>\n      <td>NYSE:TRV</td>\n      <td>Financial services</td>\n      <td>2009-06-08</td>\n      <td></td>\n      <td>2.95%</td>\n    </tr>\n    <tr>\n      <th>24</th>\n      <td>UnitedHealth Group</td>\n      <td>NYSE</td>\n      <td>NYSE:UNH</td>\n      <td>Managed health care</td>\n      <td>2012-09-24</td>\n      <td></td>\n      <td>8.01%</td>\n    </tr>\n    <tr>\n      <th>25</th>\n      <td>Verizon</td>\n      <td>NYSE</td>\n      <td>NYSE:VZ</td>\n      <td>Telecommunication</td>\n      <td>2004-04-08</td>\n      <td></td>\n      <td>1.62%</td>\n    </tr>\n    <tr>\n      <th>26</th>\n      <td>Visa Inc.</td>\n      <td>NYSE</td>\n      <td>NYSE:V</td>\n      <td>Financial services</td>\n      <td>2013-09-20</td>\n      <td></td>\n      <td>5.06%</td>\n    </tr>\n    <tr>\n      <th>27</th>\n      <td>Walmart</td>\n      <td>NYSE</td>\n      <td>NYSE:WMT</td>\n      <td>Retailing</td>\n      <td>1997-03-17</td>\n      <td></td>\n      <td>3.44%</td>\n    </tr>\n    <tr>\n      <th>28</th>\n      <td>Walgreens Boots Alliance</td>\n      <td>NASDAQ</td>\n      <td>WBA</td>\n      <td>Retailing</td>\n      <td>2018-06-26</td>\n      <td></td>\n      <td>1.26%</td>\n    </tr>\n    <tr>\n      <th>29</th>\n      <td>The Walt Disney Company</td>\n      <td>NYSE</td>\n      <td>NYSE:DIS</td>\n      <td>Broadcastingandentertainment</td>\n      <td>1991-05-06</td>\n      <td></td>\n      <td>3.12%</td>\n    </tr>\n  </tbody>\n</table>\n</div>"
     },
     "metadata": {},
     "execution_count": 28
    }
   ],
   "source": [
    "import requests\n",
    "import pandas as pd\n",
    "from bs4 import BeautifulSoup\n",
    "\n",
    "url = \"https://en.wikipedia.org/wiki/Dow_Jones_Industrial_Average\"\n",
    "response = requests.get(url)\n",
    "response.raise_for_status()\n",
    "\n",
    "soup = BeautifulSoup(response.text, 'html.parser')\n",
    "table = soup.find(id=\"constituents\")\n",
    "headers = list(map(lambda x: x.get_text(strip=True), table.find_all(\"th\")))\n",
    "table_rows = table.find(\"tbody\").find_all(\"tr\")\n",
    "\n",
    "temp = []\n",
    "for tr in table_rows:\n",
    "    td = tr.find_all('td')\n",
    "    row = [tr.get_text(strip=True) for tr in td]\n",
    "    temp.append(row)\n",
    "\n",
    "df = pd.DataFrame(temp[1:], columns=headers)\n",
    "df\n",
    "\n"
   ]
  },
  {
   "cell_type": "markdown",
   "metadata": {},
   "source": [
    "## Formatting data to put into database"
   ]
  },
  {
   "cell_type": "code",
   "execution_count": 29,
   "metadata": {},
   "outputs": [
    {
     "output_type": "execute_result",
     "data": {
      "text/plain": "                        name  exchange_id symbol currency instrument\n0                         3M            2    MMM      USD      Stock\n1           American Express            2    AXP      USD      Stock\n2                 Apple Inc.            3   AAPL      USD      Stock\n3                     Boeing            2     BA      USD      Stock\n4           Caterpillar Inc.            2    CAT      USD      Stock\n5        Chevron Corporation            2    CVX      USD      Stock\n6              Cisco Systems            3   CSCO      USD      Stock\n7      The Coca-Cola Company            2     KO      USD      Stock\n8                   Dow Inc.            2    DOW      USD      Stock\n9                 ExxonMobil            2    XOM      USD      Stock\n10             Goldman Sachs            2     GS      USD      Stock\n11            The Home Depot            2     HD      USD      Stock\n12                       IBM            2    IBM      USD      Stock\n13                     Intel            3   INTC      USD      Stock\n14         Johnson & Johnson            2    JNJ      USD      Stock\n15            JPMorgan Chase            2    JPM      USD      Stock\n16                McDonald's            2    MCD      USD      Stock\n17               Merck & Co.            2    MRK      USD      Stock\n18                 Microsoft            3   MSFT      USD      Stock\n19                      Nike            2    NKE      USD      Stock\n20                    Pfizer            2    PFE      USD      Stock\n21          Procter & Gamble            2     PG      USD      Stock\n22     Raytheon Technologies            2    RTX      USD      Stock\n23   The Travelers Companies            2    TRV      USD      Stock\n24        UnitedHealth Group            2    UNH      USD      Stock\n25                   Verizon            2     VZ      USD      Stock\n26                 Visa Inc.            2      V      USD      Stock\n27                   Walmart            2    WMT      USD      Stock\n28  Walgreens Boots Alliance            3    WBA      USD      Stock\n29   The Walt Disney Company            2    DIS      USD      Stock",
      "text/html": "<div>\n<style scoped>\n    .dataframe tbody tr th:only-of-type {\n        vertical-align: middle;\n    }\n\n    .dataframe tbody tr th {\n        vertical-align: top;\n    }\n\n    .dataframe thead th {\n        text-align: right;\n    }\n</style>\n<table border=\"1\" class=\"dataframe\">\n  <thead>\n    <tr style=\"text-align: right;\">\n      <th></th>\n      <th>name</th>\n      <th>exchange_id</th>\n      <th>symbol</th>\n      <th>currency</th>\n      <th>instrument</th>\n    </tr>\n  </thead>\n  <tbody>\n    <tr>\n      <th>0</th>\n      <td>3M</td>\n      <td>2</td>\n      <td>MMM</td>\n      <td>USD</td>\n      <td>Stock</td>\n    </tr>\n    <tr>\n      <th>1</th>\n      <td>American Express</td>\n      <td>2</td>\n      <td>AXP</td>\n      <td>USD</td>\n      <td>Stock</td>\n    </tr>\n    <tr>\n      <th>2</th>\n      <td>Apple Inc.</td>\n      <td>3</td>\n      <td>AAPL</td>\n      <td>USD</td>\n      <td>Stock</td>\n    </tr>\n    <tr>\n      <th>3</th>\n      <td>Boeing</td>\n      <td>2</td>\n      <td>BA</td>\n      <td>USD</td>\n      <td>Stock</td>\n    </tr>\n    <tr>\n      <th>4</th>\n      <td>Caterpillar Inc.</td>\n      <td>2</td>\n      <td>CAT</td>\n      <td>USD</td>\n      <td>Stock</td>\n    </tr>\n    <tr>\n      <th>5</th>\n      <td>Chevron Corporation</td>\n      <td>2</td>\n      <td>CVX</td>\n      <td>USD</td>\n      <td>Stock</td>\n    </tr>\n    <tr>\n      <th>6</th>\n      <td>Cisco Systems</td>\n      <td>3</td>\n      <td>CSCO</td>\n      <td>USD</td>\n      <td>Stock</td>\n    </tr>\n    <tr>\n      <th>7</th>\n      <td>The Coca-Cola Company</td>\n      <td>2</td>\n      <td>KO</td>\n      <td>USD</td>\n      <td>Stock</td>\n    </tr>\n    <tr>\n      <th>8</th>\n      <td>Dow Inc.</td>\n      <td>2</td>\n      <td>DOW</td>\n      <td>USD</td>\n      <td>Stock</td>\n    </tr>\n    <tr>\n      <th>9</th>\n      <td>ExxonMobil</td>\n      <td>2</td>\n      <td>XOM</td>\n      <td>USD</td>\n      <td>Stock</td>\n    </tr>\n    <tr>\n      <th>10</th>\n      <td>Goldman Sachs</td>\n      <td>2</td>\n      <td>GS</td>\n      <td>USD</td>\n      <td>Stock</td>\n    </tr>\n    <tr>\n      <th>11</th>\n      <td>The Home Depot</td>\n      <td>2</td>\n      <td>HD</td>\n      <td>USD</td>\n      <td>Stock</td>\n    </tr>\n    <tr>\n      <th>12</th>\n      <td>IBM</td>\n      <td>2</td>\n      <td>IBM</td>\n      <td>USD</td>\n      <td>Stock</td>\n    </tr>\n    <tr>\n      <th>13</th>\n      <td>Intel</td>\n      <td>3</td>\n      <td>INTC</td>\n      <td>USD</td>\n      <td>Stock</td>\n    </tr>\n    <tr>\n      <th>14</th>\n      <td>Johnson &amp; Johnson</td>\n      <td>2</td>\n      <td>JNJ</td>\n      <td>USD</td>\n      <td>Stock</td>\n    </tr>\n    <tr>\n      <th>15</th>\n      <td>JPMorgan Chase</td>\n      <td>2</td>\n      <td>JPM</td>\n      <td>USD</td>\n      <td>Stock</td>\n    </tr>\n    <tr>\n      <th>16</th>\n      <td>McDonald's</td>\n      <td>2</td>\n      <td>MCD</td>\n      <td>USD</td>\n      <td>Stock</td>\n    </tr>\n    <tr>\n      <th>17</th>\n      <td>Merck &amp; Co.</td>\n      <td>2</td>\n      <td>MRK</td>\n      <td>USD</td>\n      <td>Stock</td>\n    </tr>\n    <tr>\n      <th>18</th>\n      <td>Microsoft</td>\n      <td>3</td>\n      <td>MSFT</td>\n      <td>USD</td>\n      <td>Stock</td>\n    </tr>\n    <tr>\n      <th>19</th>\n      <td>Nike</td>\n      <td>2</td>\n      <td>NKE</td>\n      <td>USD</td>\n      <td>Stock</td>\n    </tr>\n    <tr>\n      <th>20</th>\n      <td>Pfizer</td>\n      <td>2</td>\n      <td>PFE</td>\n      <td>USD</td>\n      <td>Stock</td>\n    </tr>\n    <tr>\n      <th>21</th>\n      <td>Procter &amp; Gamble</td>\n      <td>2</td>\n      <td>PG</td>\n      <td>USD</td>\n      <td>Stock</td>\n    </tr>\n    <tr>\n      <th>22</th>\n      <td>Raytheon Technologies</td>\n      <td>2</td>\n      <td>RTX</td>\n      <td>USD</td>\n      <td>Stock</td>\n    </tr>\n    <tr>\n      <th>23</th>\n      <td>The Travelers Companies</td>\n      <td>2</td>\n      <td>TRV</td>\n      <td>USD</td>\n      <td>Stock</td>\n    </tr>\n    <tr>\n      <th>24</th>\n      <td>UnitedHealth Group</td>\n      <td>2</td>\n      <td>UNH</td>\n      <td>USD</td>\n      <td>Stock</td>\n    </tr>\n    <tr>\n      <th>25</th>\n      <td>Verizon</td>\n      <td>2</td>\n      <td>VZ</td>\n      <td>USD</td>\n      <td>Stock</td>\n    </tr>\n    <tr>\n      <th>26</th>\n      <td>Visa Inc.</td>\n      <td>2</td>\n      <td>V</td>\n      <td>USD</td>\n      <td>Stock</td>\n    </tr>\n    <tr>\n      <th>27</th>\n      <td>Walmart</td>\n      <td>2</td>\n      <td>WMT</td>\n      <td>USD</td>\n      <td>Stock</td>\n    </tr>\n    <tr>\n      <th>28</th>\n      <td>Walgreens Boots Alliance</td>\n      <td>3</td>\n      <td>WBA</td>\n      <td>USD</td>\n      <td>Stock</td>\n    </tr>\n    <tr>\n      <th>29</th>\n      <td>The Walt Disney Company</td>\n      <td>2</td>\n      <td>DIS</td>\n      <td>USD</td>\n      <td>Stock</td>\n    </tr>\n  </tbody>\n</table>\n</div>"
     },
     "metadata": {},
     "execution_count": 29
    }
   ],
   "source": [
    "extraColumns = list(filter(lambda x: x not in [\"Company\", \"Exchange\", \"Symbol\"], headers))\n",
    "\n",
    "df.drop(labels=extraColumns, axis=1, inplace=True)\n",
    "\n",
    "df['Symbol'] = df['Symbol'].apply(lambda x: x[x.find(\":\") + 1:])\n",
    "df['Exchange'] = df['Exchange'].apply(lambda x: data.getExchangeId(x))\n",
    "\n",
    "df.rename(\n",
    "    columns={\n",
    "        \"Exchange\": \"exchange_id\",\n",
    "        \"Symbol\": \"symbol\",\n",
    "        \"Company\": \"name\"\n",
    "    },\n",
    "    inplace=True)\n",
    "\n",
    "df.insert(loc=len(df.columns), column=\"currency\", value=\"USD\")\n",
    "df.insert(loc=len(df.columns), column=\"instrument\", value=\"Stock\")\n",
    "\n",
    "df"
   ]
  },
  {
   "cell_type": "code",
   "execution_count": 31,
   "metadata": {},
   "outputs": [],
   "source": [
    "# df.to_sql('assets', data.con, index=False, if_exists=\"append\")"
   ]
  }
 ],
 "metadata": {
  "language_info": {
   "codemirror_mode": {
    "name": "ipython",
    "version": 3
   },
   "file_extension": ".py",
   "mimetype": "text/x-python",
   "name": "python",
   "nbconvert_exporter": "python",
   "pygments_lexer": "ipython3",
   "version": "3.8.2-final"
  },
  "orig_nbformat": 2,
  "kernelspec": {
   "name": "python38264bitenvvenvbe8be8c3152048828b50ae345b2ffc8e",
   "display_name": "Python 3.8.2 64-bit ('env': venv)"
  }
 },
 "nbformat": 4,
 "nbformat_minor": 2
}