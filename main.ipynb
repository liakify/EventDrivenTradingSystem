{
 "cells": [
  {
   "cell_type": "code",
   "execution_count": 3,
   "metadata": {},
   "outputs": [],
   "source": [
    "import yfinance as yf\n",
    "import pandas as pd"
   ]
  },
  {
   "cell_type": "code",
   "execution_count": 4,
   "metadata": {},
   "outputs": [
    {
     "output_type": "stream",
     "name": "stdout",
     "text": "[*********************100%***********************]  1 of 1 completed\n"
    },
    {
     "output_type": "execute_result",
     "data": {
      "text/plain": "                  Open        High         Low       Close   Adj Close  \\\nDate                                                                     \n1993-01-29   43.968750   43.968750   43.750000   43.937500   26.299288   \n1993-02-01   43.968750   44.250000   43.968750   44.250000   26.486324   \n1993-02-02   44.218750   44.375000   44.125000   44.343750   26.542448   \n1993-02-03   44.406250   44.843750   44.375000   44.812500   26.822998   \n1993-02-04   44.968750   45.093750   44.468750   45.000000   26.935240   \n...                ...         ...         ...         ...         ...   \n2020-06-08  320.220001  323.410004  319.630005  323.200012  323.200012   \n2020-06-09  320.299988  323.279999  319.359985  320.790009  320.790009   \n2020-06-10  321.420013  322.390015  318.220001  319.000000  319.000000   \n2020-06-11  311.459991  312.149994  300.010010  300.609985  300.609985   \n2020-06-12  308.239990  309.065002  300.470001  303.519989  303.519989   \n\n               Volume  \nDate                   \n1993-01-29    1003200  \n1993-02-01     480500  \n1993-02-02     201300  \n1993-02-03     529400  \n1993-02-04     531500  \n...               ...  \n2020-06-08   73641200  \n2020-06-09   77479200  \n2020-06-10   95000800  \n2020-06-11  208447000  \n2020-06-12   84436230  \n\n[6893 rows x 6 columns]",
      "text/html": "<div>\n<style scoped>\n    .dataframe tbody tr th:only-of-type {\n        vertical-align: middle;\n    }\n\n    .dataframe tbody tr th {\n        vertical-align: top;\n    }\n\n    .dataframe thead th {\n        text-align: right;\n    }\n</style>\n<table border=\"1\" class=\"dataframe\">\n  <thead>\n    <tr style=\"text-align: right;\">\n      <th></th>\n      <th>Open</th>\n      <th>High</th>\n      <th>Low</th>\n      <th>Close</th>\n      <th>Adj Close</th>\n      <th>Volume</th>\n    </tr>\n    <tr>\n      <th>Date</th>\n      <th></th>\n      <th></th>\n      <th></th>\n      <th></th>\n      <th></th>\n      <th></th>\n    </tr>\n  </thead>\n  <tbody>\n    <tr>\n      <th>1993-01-29</th>\n      <td>43.968750</td>\n      <td>43.968750</td>\n      <td>43.750000</td>\n      <td>43.937500</td>\n      <td>26.299288</td>\n      <td>1003200</td>\n    </tr>\n    <tr>\n      <th>1993-02-01</th>\n      <td>43.968750</td>\n      <td>44.250000</td>\n      <td>43.968750</td>\n      <td>44.250000</td>\n      <td>26.486324</td>\n      <td>480500</td>\n    </tr>\n    <tr>\n      <th>1993-02-02</th>\n      <td>44.218750</td>\n      <td>44.375000</td>\n      <td>44.125000</td>\n      <td>44.343750</td>\n      <td>26.542448</td>\n      <td>201300</td>\n    </tr>\n    <tr>\n      <th>1993-02-03</th>\n      <td>44.406250</td>\n      <td>44.843750</td>\n      <td>44.375000</td>\n      <td>44.812500</td>\n      <td>26.822998</td>\n      <td>529400</td>\n    </tr>\n    <tr>\n      <th>1993-02-04</th>\n      <td>44.968750</td>\n      <td>45.093750</td>\n      <td>44.468750</td>\n      <td>45.000000</td>\n      <td>26.935240</td>\n      <td>531500</td>\n    </tr>\n    <tr>\n      <th>...</th>\n      <td>...</td>\n      <td>...</td>\n      <td>...</td>\n      <td>...</td>\n      <td>...</td>\n      <td>...</td>\n    </tr>\n    <tr>\n      <th>2020-06-08</th>\n      <td>320.220001</td>\n      <td>323.410004</td>\n      <td>319.630005</td>\n      <td>323.200012</td>\n      <td>323.200012</td>\n      <td>73641200</td>\n    </tr>\n    <tr>\n      <th>2020-06-09</th>\n      <td>320.299988</td>\n      <td>323.279999</td>\n      <td>319.359985</td>\n      <td>320.790009</td>\n      <td>320.790009</td>\n      <td>77479200</td>\n    </tr>\n    <tr>\n      <th>2020-06-10</th>\n      <td>321.420013</td>\n      <td>322.390015</td>\n      <td>318.220001</td>\n      <td>319.000000</td>\n      <td>319.000000</td>\n      <td>95000800</td>\n    </tr>\n    <tr>\n      <th>2020-06-11</th>\n      <td>311.459991</td>\n      <td>312.149994</td>\n      <td>300.010010</td>\n      <td>300.609985</td>\n      <td>300.609985</td>\n      <td>208447000</td>\n    </tr>\n    <tr>\n      <th>2020-06-12</th>\n      <td>308.239990</td>\n      <td>309.065002</td>\n      <td>300.470001</td>\n      <td>303.519989</td>\n      <td>303.519989</td>\n      <td>84436230</td>\n    </tr>\n  </tbody>\n</table>\n<p>6893 rows × 6 columns</p>\n</div>"
     },
     "metadata": {},
     "execution_count": 4
    }
   ],
   "source": [
    "yf.download(\"SPY\")"
   ]
  }
 ],
 "metadata": {
  "language_info": {
   "codemirror_mode": {
    "name": "ipython",
    "version": 3
   },
   "file_extension": ".py",
   "mimetype": "text/x-python",
   "name": "python",
   "nbconvert_exporter": "python",
   "pygments_lexer": "ipython3",
   "version": "3.8.2-final"
  },
  "orig_nbformat": 2,
  "kernelspec": {
   "name": "python38264bitenvvenvbe8be8c3152048828b50ae345b2ffc8e",
   "display_name": "Python 3.8.2 64-bit ('env': venv)"
  }
 },
 "nbformat": 4,
 "nbformat_minor": 2
}